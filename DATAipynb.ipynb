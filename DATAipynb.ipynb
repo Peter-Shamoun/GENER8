{
  "nbformat": 4,
  "nbformat_minor": 0,
  "metadata": {
    "colab": {
      "provenance": [],
      "machine_shape": "hm",
      "gpuType": "T4",
      "authorship_tag": "ABX9TyNNESinGU7iQJ4fYftG8c5p",
      "include_colab_link": true
    },
    "kernelspec": {
      "name": "python3",
      "display_name": "Python 3"
    },
    "language_info": {
      "name": "python"
    },
    "accelerator": "GPU"
  },
  "cells": [
    {
      "cell_type": "markdown",
      "metadata": {
        "id": "view-in-github",
        "colab_type": "text"
      },
      "source": [
        "<a href=\"https://colab.research.google.com/github/Peter-Shamoun/GENER8/blob/main/DATAipynb.ipynb\" target=\"_parent\"><img src=\"https://colab.research.google.com/assets/colab-badge.svg\" alt=\"Open In Colab\"/></a>"
      ]
    },
    {
      "cell_type": "code",
      "source": [
        "!apt install ffmpeg\n",
        "%pip install -U datasets\n",
        "%pip install -U pytube\n",
        "%pip install -U pydub\n",
        "%pip install yt-dlp\n",
        "\n",
        "\n",
        "from pytube import YouTube\n",
        "from pydub import AudioSegment\n",
        "import re\n",
        "import os\n",
        "import yt_dlp\n",
        "\n",
        "\n",
        "\n",
        "from datasets import load_dataset\n",
        "\n",
        "ds = load_dataset(\"google/MusicCaps\")"
      ],
      "metadata": {
        "colab": {
          "base_uri": "https://localhost:8080/"
        },
        "id": "kfzGJddP4Y8l",
        "outputId": "57537d4f-faf5-483e-9a53-b8f1fea56cf2"
      },
      "execution_count": 18,
      "outputs": [
        {
          "output_type": "stream",
          "name": "stdout",
          "text": [
            "Reading package lists... Done\n",
            "Building dependency tree... Done\n",
            "Reading state information... Done\n",
            "ffmpeg is already the newest version (7:4.4.2-0ubuntu0.22.04.1).\n",
            "0 upgraded, 0 newly installed, 0 to remove and 35 not upgraded.\n",
            "Requirement already satisfied: datasets in /usr/local/lib/python3.11/dist-packages (3.6.0)\n",
            "Requirement already satisfied: filelock in /usr/local/lib/python3.11/dist-packages (from datasets) (3.18.0)\n",
            "Requirement already satisfied: numpy>=1.17 in /usr/local/lib/python3.11/dist-packages (from datasets) (2.0.2)\n",
            "Requirement already satisfied: pyarrow>=15.0.0 in /usr/local/lib/python3.11/dist-packages (from datasets) (18.1.0)\n",
            "Requirement already satisfied: dill<0.3.9,>=0.3.0 in /usr/local/lib/python3.11/dist-packages (from datasets) (0.3.7)\n",
            "Requirement already satisfied: pandas in /usr/local/lib/python3.11/dist-packages (from datasets) (2.2.2)\n",
            "Requirement already satisfied: requests>=2.32.2 in /usr/local/lib/python3.11/dist-packages (from datasets) (2.32.3)\n",
            "Requirement already satisfied: tqdm>=4.66.3 in /usr/local/lib/python3.11/dist-packages (from datasets) (4.67.1)\n",
            "Requirement already satisfied: xxhash in /usr/local/lib/python3.11/dist-packages (from datasets) (3.5.0)\n",
            "Requirement already satisfied: multiprocess<0.70.17 in /usr/local/lib/python3.11/dist-packages (from datasets) (0.70.15)\n",
            "Requirement already satisfied: fsspec<=2025.3.0,>=2023.1.0 in /usr/local/lib/python3.11/dist-packages (from fsspec[http]<=2025.3.0,>=2023.1.0->datasets) (2025.3.0)\n",
            "Requirement already satisfied: huggingface-hub>=0.24.0 in /usr/local/lib/python3.11/dist-packages (from datasets) (0.31.4)\n",
            "Requirement already satisfied: packaging in /usr/local/lib/python3.11/dist-packages (from datasets) (24.2)\n",
            "Requirement already satisfied: pyyaml>=5.1 in /usr/local/lib/python3.11/dist-packages (from datasets) (6.0.2)\n",
            "Requirement already satisfied: aiohttp!=4.0.0a0,!=4.0.0a1 in /usr/local/lib/python3.11/dist-packages (from fsspec[http]<=2025.3.0,>=2023.1.0->datasets) (3.11.15)\n",
            "Requirement already satisfied: typing-extensions>=3.7.4.3 in /usr/local/lib/python3.11/dist-packages (from huggingface-hub>=0.24.0->datasets) (4.13.2)\n",
            "Requirement already satisfied: charset-normalizer<4,>=2 in /usr/local/lib/python3.11/dist-packages (from requests>=2.32.2->datasets) (3.4.2)\n",
            "Requirement already satisfied: idna<4,>=2.5 in /usr/local/lib/python3.11/dist-packages (from requests>=2.32.2->datasets) (3.10)\n",
            "Requirement already satisfied: urllib3<3,>=1.21.1 in /usr/local/lib/python3.11/dist-packages (from requests>=2.32.2->datasets) (2.4.0)\n",
            "Requirement already satisfied: certifi>=2017.4.17 in /usr/local/lib/python3.11/dist-packages (from requests>=2.32.2->datasets) (2025.4.26)\n",
            "Requirement already satisfied: python-dateutil>=2.8.2 in /usr/local/lib/python3.11/dist-packages (from pandas->datasets) (2.9.0.post0)\n",
            "Requirement already satisfied: pytz>=2020.1 in /usr/local/lib/python3.11/dist-packages (from pandas->datasets) (2025.2)\n",
            "Requirement already satisfied: tzdata>=2022.7 in /usr/local/lib/python3.11/dist-packages (from pandas->datasets) (2025.2)\n",
            "Requirement already satisfied: aiohappyeyeballs>=2.3.0 in /usr/local/lib/python3.11/dist-packages (from aiohttp!=4.0.0a0,!=4.0.0a1->fsspec[http]<=2025.3.0,>=2023.1.0->datasets) (2.6.1)\n",
            "Requirement already satisfied: aiosignal>=1.1.2 in /usr/local/lib/python3.11/dist-packages (from aiohttp!=4.0.0a0,!=4.0.0a1->fsspec[http]<=2025.3.0,>=2023.1.0->datasets) (1.3.2)\n",
            "Requirement already satisfied: attrs>=17.3.0 in /usr/local/lib/python3.11/dist-packages (from aiohttp!=4.0.0a0,!=4.0.0a1->fsspec[http]<=2025.3.0,>=2023.1.0->datasets) (25.3.0)\n",
            "Requirement already satisfied: frozenlist>=1.1.1 in /usr/local/lib/python3.11/dist-packages (from aiohttp!=4.0.0a0,!=4.0.0a1->fsspec[http]<=2025.3.0,>=2023.1.0->datasets) (1.6.0)\n",
            "Requirement already satisfied: multidict<7.0,>=4.5 in /usr/local/lib/python3.11/dist-packages (from aiohttp!=4.0.0a0,!=4.0.0a1->fsspec[http]<=2025.3.0,>=2023.1.0->datasets) (6.4.4)\n",
            "Requirement already satisfied: propcache>=0.2.0 in /usr/local/lib/python3.11/dist-packages (from aiohttp!=4.0.0a0,!=4.0.0a1->fsspec[http]<=2025.3.0,>=2023.1.0->datasets) (0.3.1)\n",
            "Requirement already satisfied: yarl<2.0,>=1.17.0 in /usr/local/lib/python3.11/dist-packages (from aiohttp!=4.0.0a0,!=4.0.0a1->fsspec[http]<=2025.3.0,>=2023.1.0->datasets) (1.20.0)\n",
            "Requirement already satisfied: six>=1.5 in /usr/local/lib/python3.11/dist-packages (from python-dateutil>=2.8.2->pandas->datasets) (1.17.0)\n",
            "Requirement already satisfied: pytube in /usr/local/lib/python3.11/dist-packages (15.0.0)\n",
            "Requirement already satisfied: pydub in /usr/local/lib/python3.11/dist-packages (0.25.1)\n",
            "Collecting yt-dlp\n",
            "  Downloading yt_dlp-2025.5.22-py3-none-any.whl.metadata (174 kB)\n",
            "\u001b[2K     \u001b[90m━━━━━━━━━━━━━━━━━━━━━━━━━━━━━━━━━━━━━━━\u001b[0m \u001b[32m174.3/174.3 kB\u001b[0m \u001b[31m4.0 MB/s\u001b[0m eta \u001b[36m0:00:00\u001b[0m\n",
            "\u001b[?25hDownloading yt_dlp-2025.5.22-py3-none-any.whl (3.3 MB)\n",
            "\u001b[2K   \u001b[90m━━━━━━━━━━━━━━━━━━━━━━━━━━━━━━━━━━━━━━━━\u001b[0m \u001b[32m3.3/3.3 MB\u001b[0m \u001b[31m53.2 MB/s\u001b[0m eta \u001b[36m0:00:00\u001b[0m\n",
            "\u001b[?25hInstalling collected packages: yt-dlp\n",
            "Successfully installed yt-dlp-2025.5.22\n"
          ]
        }
      ]
    },
    {
      "cell_type": "code",
      "source": [
        "def download_youtube_audio(url, start_s, end_s, output='output.mp3'):\n",
        "    \"\"\"\n",
        "    Downloads a specific portion of the audio from a YouTube video.\n",
        "\n",
        "    Parameters:\n",
        "    - url (str): The URL of the YouTube video (e.g., 'https://youtu.be/watch?v={ytid}&start={start_s}').\n",
        "    - start_s (int or float): The start time in seconds (e.g., 30).\n",
        "    - end_s (int or float): The end time in seconds (e.g., 60).\n",
        "    - output (str): The output file name (default is 'output.mp3').\n",
        "    \"\"\"\n",
        "    options = {\n",
        "        'format': 'bestaudio/best',  # Select the best available audio\n",
        "        'postprocessors': [{\n",
        "            'key': 'FFmpegExtractAudio',  # Extract audio using FFmpeg\n",
        "            'preferredcodec': 'mp3',      # Convert to MP3 format\n",
        "            'preferredquality': '192',    # Set audio quality to 192 kbps\n",
        "        }],\n",
        "        'postprocessor_args': ['-ss', str(start_s), '-to', str(end_s)],  # Trim audio from start_s to end_s\n",
        "        'outtmpl': output,  # Specify output file name\n",
        "    }\n",
        "\n",
        "    with yt_dlp.YoutubeDL(options) as ydl:\n",
        "        ydl.download([url])"
      ],
      "metadata": {
        "id": "S1wt6Bvg1hSw"
      },
      "execution_count": 19,
      "outputs": []
    },
    {
      "cell_type": "code",
      "source": [
        "for i in range(100):\n",
        "  yt_url = ds['train']['ytid'][i]\n",
        "  yt_start = ds['train']['start_s'][i]\n",
        "  yt_end = ds['train']['end_s'][i]\n",
        "  yt = f\"https://youtu.be/watch?v={yt_url}&start={yt_start}\"\n",
        "\n",
        "  download_youtube_audio(yt_url, yt_start, yt_end, output = f\"music/{i}.mp3\")"
      ],
      "metadata": {
        "colab": {
          "base_uri": "https://localhost:8080/"
        },
        "id": "7NMtJZg72FYv",
        "outputId": "abfbb694-aff6-4ec3-c40e-db2f1332095a"
      },
      "execution_count": 20,
      "outputs": [
        {
          "output_type": "stream",
          "name": "stdout",
          "text": [
            "[generic] Extracting URL: https://youtu.be/watch?v=-0Gj8-vB1q4&start=30\n",
            "[generic] watch?v=-0Gj8-vB1q4&start=30: Downloading webpage\n",
            "[redirect] Following redirect to https://www.youtube.com/watch?v=-0Gj8-vB1q4&start=30&v=watch&feature=youtu.be\n",
            "[youtube] Extracting URL: https://www.youtube.com/watch?v=-0Gj8-vB1q4&start=30&v=watch&feature=youtu.be\n",
            "[youtube] -0Gj8-vB1q4: Downloading webpage\n",
            "[youtube] -0Gj8-vB1q4: Downloading tv client config\n",
            "[youtube] -0Gj8-vB1q4: Downloading player 59b252b9-main\n",
            "[youtube] -0Gj8-vB1q4: Downloading tv player API JSON\n",
            "[youtube] -0Gj8-vB1q4: Downloading ios player API JSON\n",
            "[youtube] -0Gj8-vB1q4: Downloading m3u8 information\n",
            "[info] -0Gj8-vB1q4: Downloading 1 format(s): 251\n",
            "[download] Destination: output.mp3\n",
            "[download] 100% of    3.79MiB in 00:00:00 at 11.34MiB/s  \n",
            "[ExtractAudio] Destination: output.mp3.mp3\n",
            "Deleting original file output.mp3 (pass -k to keep)\n"
          ]
        }
      ]
    }
  ]
}